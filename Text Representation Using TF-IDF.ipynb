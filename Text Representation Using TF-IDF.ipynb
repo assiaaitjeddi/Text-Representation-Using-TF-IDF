{
 "cells": [
  {
   "cell_type": "code",
   "execution_count": 1,
   "id": "d582ff6a-24f8-4285-9d02-88ff914baf03",
   "metadata": {},
   "outputs": [],
   "source": [
    "import pandas as pd\n",
    "import numpy as np\n",
    "import spacy\n",
    "from sklearn.feature_extraction.text import TfidfVectorizer"
   ]
  },
  {
   "cell_type": "markdown",
   "id": "b9e96de8-2ab5-4638-acd6-e2015d01e3d1",
   "metadata": {},
   "source": [
    "### What is TF-IDF?\n",
    "- TF stands for Term Frequency and denotes the ratio of number of times a particular word appeared in a Document to total number of words in the document.\n",
    "\n",
    "   Term Frequency(TF) = [number of times word appeared / total no of words in a document]\n",
    "- Term Frequency values ranges between 0 and 1. If a word occurs more number of times, then it's value will be close to 1.\n",
    "\n",
    "- IDF stands for Inverse Document Frequency and denotes the log of ratio of total number of documents/datapoints in the whole dataset to the number of documents that contains the particular word.\n",
    "\n",
    "  Inverse Document Frequency(IDF) = [log(Total number of documents / number of documents that contains the word)]\n",
    "- In IDF, if a word occured in more number of documents and is common across all documents, then it's value will be less and ratio will approaches to 0.\n",
    "- Finally:\r\n",
    "\r\n",
    "   TF-IDF = Term Frequency(TF) * Inverse Document Frequency(IDF)"
   ]
  },
  {
   "cell_type": "code",
   "execution_count": 2,
   "id": "8d959568-09c8-4d58-8d70-e1ad3d88b52d",
   "metadata": {},
   "outputs": [],
   "source": [
    "corpus = [\n",
    "    \"Thor eating pizza, Loki is eating pizza, Ironman ate pizza already\",\n",
    "    \"Apple is announcing new iphone tomorrow\",\n",
    "    \"Tesla is announcing new model-3 tomorrow\",\n",
    "    \"Google is announcing new pixel-6 tomorrow\",\n",
    "    \"Microsoft is announcing new surface tomorrow\",\n",
    "    \"Amazon is announcing new eco-dot tomorrow\",\n",
    "    \"I am eating biryani and you are eating grapes\"\n",
    "]"
   ]
  },
  {
   "cell_type": "code",
   "execution_count": 3,
   "id": "753f2fca-0cb1-4c9b-8f0d-ee1a20b6b998",
   "metadata": {},
   "outputs": [
    {
     "name": "stdout",
     "output_type": "stream",
     "text": [
      "{'thor': 25, 'eating': 10, 'pizza': 22, 'loki': 17, 'is': 16, 'ironman': 15, 'ate': 7, 'already': 0, 'apple': 5, 'announcing': 4, 'new': 20, 'iphone': 14, 'tomorrow': 26, 'tesla': 24, 'model': 19, 'google': 12, 'pixel': 21, 'microsoft': 18, 'surface': 23, 'amazon': 2, 'eco': 11, 'dot': 9, 'am': 1, 'biryani': 8, 'and': 3, 'you': 27, 'are': 6, 'grapes': 13}\n"
     ]
    }
   ],
   "source": [
    "v = TfidfVectorizer()\n",
    "transormed_output = v.fit_transform(corpus)\n",
    "print(v.vocabulary_)"
   ]
  },
  {
   "cell_type": "code",
   "execution_count": 4,
   "id": "2377712a-b834-49e7-b260-ca7131bbec6c",
   "metadata": {},
   "outputs": [
    {
     "name": "stdout",
     "output_type": "stream",
     "text": [
      "  (0, 0)\t0.2426654728284301\n",
      "  (0, 7)\t0.2426654728284301\n",
      "  (0, 15)\t0.2426654728284301\n",
      "  (0, 16)\t0.11527032701364152\n",
      "  (0, 17)\t0.2426654728284301\n",
      "  (0, 22)\t0.7279964184852903\n",
      "  (0, 10)\t0.40286636477562926\n",
      "  (0, 25)\t0.2426654728284301\n",
      "  (1, 26)\t0.30652086071532464\n",
      "  (1, 14)\t0.5680354003049032\n",
      "  (1, 20)\t0.30652086071532464\n",
      "  (1, 4)\t0.30652086071532464\n",
      "  (1, 5)\t0.5680354003049032\n",
      "  (1, 16)\t0.26982671076064085\n",
      "  (2, 19)\t0.5680354003049032\n",
      "  (2, 24)\t0.5680354003049032\n",
      "  (2, 26)\t0.30652086071532464\n",
      "  (2, 20)\t0.30652086071532464\n",
      "  (2, 4)\t0.30652086071532464\n",
      "  (2, 16)\t0.26982671076064085\n",
      "  (3, 21)\t0.5680354003049032\n",
      "  (3, 12)\t0.5680354003049032\n",
      "  (3, 26)\t0.30652086071532464\n",
      "  (3, 20)\t0.30652086071532464\n",
      "  (3, 4)\t0.30652086071532464\n",
      "  (3, 16)\t0.26982671076064085\n",
      "  (4, 23)\t0.5680354003049032\n",
      "  (4, 18)\t0.5680354003049032\n",
      "  (4, 26)\t0.30652086071532464\n",
      "  (4, 20)\t0.30652086071532464\n",
      "  (4, 4)\t0.30652086071532464\n",
      "  (4, 16)\t0.26982671076064085\n",
      "  (5, 9)\t0.4939131624859277\n",
      "  (5, 11)\t0.4939131624859277\n",
      "  (5, 2)\t0.4939131624859277\n",
      "  (5, 26)\t0.266523332177098\n",
      "  (5, 20)\t0.266523332177098\n",
      "  (5, 4)\t0.266523332177098\n",
      "  (5, 16)\t0.23461735652994203\n",
      "  (6, 13)\t0.33794256881982165\n",
      "  (6, 6)\t0.33794256881982165\n",
      "  (6, 27)\t0.33794256881982165\n",
      "  (6, 3)\t0.33794256881982165\n",
      "  (6, 8)\t0.33794256881982165\n",
      "  (6, 1)\t0.33794256881982165\n",
      "  (6, 10)\t0.561042708781391\n"
     ]
    }
   ],
   "source": [
    "print(transormed_output)"
   ]
  },
  {
   "cell_type": "code",
   "execution_count": 5,
   "id": "86e8bac0-f987-43ff-bd79-247c7e7831e0",
   "metadata": {},
   "outputs": [
    {
     "name": "stdout",
     "output_type": "stream",
     "text": [
      "already 2.386294361119891\n",
      "am 2.386294361119891\n",
      "amazon 2.386294361119891\n",
      "and 2.386294361119891\n",
      "announcing 1.2876820724517808\n",
      "apple 2.386294361119891\n",
      "are 2.386294361119891\n",
      "ate 2.386294361119891\n",
      "biryani 2.386294361119891\n",
      "dot 2.386294361119891\n",
      "eating 1.9808292530117262\n",
      "eco 2.386294361119891\n",
      "google 2.386294361119891\n",
      "grapes 2.386294361119891\n",
      "iphone 2.386294361119891\n",
      "ironman 2.386294361119891\n",
      "is 1.1335313926245225\n",
      "loki 2.386294361119891\n",
      "microsoft 2.386294361119891\n",
      "model 2.386294361119891\n",
      "new 1.2876820724517808\n",
      "pixel 2.386294361119891\n",
      "pizza 2.386294361119891\n",
      "surface 2.386294361119891\n",
      "tesla 2.386294361119891\n",
      "thor 2.386294361119891\n",
      "tomorrow 1.2876820724517808\n",
      "you 2.386294361119891\n"
     ]
    }
   ],
   "source": [
    "all_features_names = v.get_feature_names_out()\n",
    "\n",
    "for word in all_features_names :\n",
    "    index = v.vocabulary_.get(word) #to get the index of the word\n",
    "    print(f\"{word} {v.idf_[index]}\")"
   ]
  },
  {
   "cell_type": "code",
   "execution_count": 6,
   "id": "bbd7c782-d7ab-4709-9fb3-166a47cfc613",
   "metadata": {},
   "outputs": [
    {
     "data": {
      "text/plain": [
       "['Thor eating pizza, Loki is eating pizza, Ironman ate pizza already',\n",
       " 'Apple is announcing new iphone tomorrow']"
      ]
     },
     "execution_count": 6,
     "metadata": {},
     "output_type": "execute_result"
    }
   ],
   "source": [
    "corpus[:2]"
   ]
  },
  {
   "cell_type": "code",
   "execution_count": 7,
   "id": "77c3e7aa-30cf-4865-ba16-7625dd1e1a07",
   "metadata": {},
   "outputs": [
    {
     "data": {
      "text/plain": [
       "array([[0.24266547, 0.        , 0.        , 0.        , 0.        ,\n",
       "        0.        , 0.        , 0.24266547, 0.        , 0.        ,\n",
       "        0.40286636, 0.        , 0.        , 0.        , 0.        ,\n",
       "        0.24266547, 0.11527033, 0.24266547, 0.        , 0.        ,\n",
       "        0.        , 0.        , 0.72799642, 0.        , 0.        ,\n",
       "        0.24266547, 0.        , 0.        ],\n",
       "       [0.        , 0.        , 0.        , 0.        , 0.30652086,\n",
       "        0.5680354 , 0.        , 0.        , 0.        , 0.        ,\n",
       "        0.        , 0.        , 0.        , 0.        , 0.5680354 ,\n",
       "        0.        , 0.26982671, 0.        , 0.        , 0.        ,\n",
       "        0.30652086, 0.        , 0.        , 0.        , 0.        ,\n",
       "        0.        , 0.30652086, 0.        ]])"
      ]
     },
     "execution_count": 7,
     "metadata": {},
     "output_type": "execute_result"
    }
   ],
   "source": [
    "transormed_output.toarray()[:2]"
   ]
  },
  {
   "cell_type": "markdown",
   "id": "0ec6259d-4ada-422f-8160-80e03be04123",
   "metadata": {},
   "source": [
    "####  Problem Statement: Given a description about a product sold on e-commerce website, classify it in one of the 4 categories\n"
   ]
  },
  {
   "cell_type": "markdown",
   "id": "96582428-ef31-427f-87ad-f8c09efe68d1",
   "metadata": {},
   "source": [
    "- <h4>Text:</h4> Description of an item sold on e-commerce website\n",
    "- <h4>Label:</h4> Category of that item. Total 4 categories: \"Electronics\", \"Household\", \"Books\" and \"Clothing & Accessories\", which almost cover 80% of any E-commerce website."
   ]
  },
  {
   "cell_type": "code",
   "execution_count": 8,
   "id": "5fa889fe-e82b-4488-9e61-512a7f160ada",
   "metadata": {},
   "outputs": [
    {
     "data": {
      "text/html": [
       "<div>\n",
       "<style scoped>\n",
       "    .dataframe tbody tr th:only-of-type {\n",
       "        vertical-align: middle;\n",
       "    }\n",
       "\n",
       "    .dataframe tbody tr th {\n",
       "        vertical-align: top;\n",
       "    }\n",
       "\n",
       "    .dataframe thead th {\n",
       "        text-align: right;\n",
       "    }\n",
       "</style>\n",
       "<table border=\"1\" class=\"dataframe\">\n",
       "  <thead>\n",
       "    <tr style=\"text-align: right;\">\n",
       "      <th></th>\n",
       "      <th>Text</th>\n",
       "      <th>label</th>\n",
       "    </tr>\n",
       "  </thead>\n",
       "  <tbody>\n",
       "    <tr>\n",
       "      <th>0</th>\n",
       "      <td>Urban Ladder Eisner Low Back Study-Office Comp...</td>\n",
       "      <td>Household</td>\n",
       "    </tr>\n",
       "    <tr>\n",
       "      <th>1</th>\n",
       "      <td>Contrast living Wooden Decorative Box,Painted ...</td>\n",
       "      <td>Household</td>\n",
       "    </tr>\n",
       "    <tr>\n",
       "      <th>2</th>\n",
       "      <td>IO Crest SY-PCI40010 PCI RAID Host Controller ...</td>\n",
       "      <td>Electronics</td>\n",
       "    </tr>\n",
       "    <tr>\n",
       "      <th>3</th>\n",
       "      <td>ISAKAA Baby Socks from Just Born to 8 Years- P...</td>\n",
       "      <td>Clothing &amp; Accessories</td>\n",
       "    </tr>\n",
       "    <tr>\n",
       "      <th>4</th>\n",
       "      <td>Indira Designer Women's Art Mysore Silk Saree ...</td>\n",
       "      <td>Clothing &amp; Accessories</td>\n",
       "    </tr>\n",
       "  </tbody>\n",
       "</table>\n",
       "</div>"
      ],
      "text/plain": [
       "                                                Text                   label\n",
       "0  Urban Ladder Eisner Low Back Study-Office Comp...               Household\n",
       "1  Contrast living Wooden Decorative Box,Painted ...               Household\n",
       "2  IO Crest SY-PCI40010 PCI RAID Host Controller ...             Electronics\n",
       "3  ISAKAA Baby Socks from Just Born to 8 Years- P...  Clothing & Accessories\n",
       "4  Indira Designer Women's Art Mysore Silk Saree ...  Clothing & Accessories"
      ]
     },
     "execution_count": 8,
     "metadata": {},
     "output_type": "execute_result"
    }
   ],
   "source": [
    "df = pd.read_csv(\"Ecommerce_data.csv\")\n",
    "df.head()"
   ]
  },
  {
   "cell_type": "code",
   "execution_count": 9,
   "id": "58f77273-ca21-4d4e-a94c-9dc6ec2cc8f4",
   "metadata": {},
   "outputs": [
    {
     "data": {
      "text/plain": [
       "(24000, 2)"
      ]
     },
     "execution_count": 9,
     "metadata": {},
     "output_type": "execute_result"
    }
   ],
   "source": [
    "df.shape"
   ]
  },
  {
   "cell_type": "code",
   "execution_count": 10,
   "id": "8cf05c64-c11b-4a64-9fa9-80bcb7b7152f",
   "metadata": {},
   "outputs": [
    {
     "data": {
      "text/plain": [
       "label\n",
       "Household                 6000\n",
       "Electronics               6000\n",
       "Clothing & Accessories    6000\n",
       "Books                     6000\n",
       "Name: count, dtype: int64"
      ]
     },
     "execution_count": 10,
     "metadata": {},
     "output_type": "execute_result"
    }
   ],
   "source": [
    "df.label.value_counts()  #The data is balanced"
   ]
  },
  {
   "cell_type": "code",
   "execution_count": 11,
   "id": "f7cb1d11-30cf-4d55-8a0e-ab52393bdcdf",
   "metadata": {},
   "outputs": [],
   "source": [
    "df['label_num'] = df.label.map({\n",
    "    'Household' : 0,\n",
    "    'Electronics' : 1,\n",
    "    'Clothing & Accessories' : 2,\n",
    "    'Books' : 3\n",
    "})"
   ]
  },
  {
   "cell_type": "code",
   "execution_count": 12,
   "id": "f76e33d4-ce1e-4fbe-8995-32e321f2e64e",
   "metadata": {},
   "outputs": [
    {
     "data": {
      "text/html": [
       "<div>\n",
       "<style scoped>\n",
       "    .dataframe tbody tr th:only-of-type {\n",
       "        vertical-align: middle;\n",
       "    }\n",
       "\n",
       "    .dataframe tbody tr th {\n",
       "        vertical-align: top;\n",
       "    }\n",
       "\n",
       "    .dataframe thead th {\n",
       "        text-align: right;\n",
       "    }\n",
       "</style>\n",
       "<table border=\"1\" class=\"dataframe\">\n",
       "  <thead>\n",
       "    <tr style=\"text-align: right;\">\n",
       "      <th></th>\n",
       "      <th>Text</th>\n",
       "      <th>label</th>\n",
       "      <th>label_num</th>\n",
       "    </tr>\n",
       "  </thead>\n",
       "  <tbody>\n",
       "    <tr>\n",
       "      <th>0</th>\n",
       "      <td>Urban Ladder Eisner Low Back Study-Office Comp...</td>\n",
       "      <td>Household</td>\n",
       "      <td>0</td>\n",
       "    </tr>\n",
       "    <tr>\n",
       "      <th>1</th>\n",
       "      <td>Contrast living Wooden Decorative Box,Painted ...</td>\n",
       "      <td>Household</td>\n",
       "      <td>0</td>\n",
       "    </tr>\n",
       "    <tr>\n",
       "      <th>2</th>\n",
       "      <td>IO Crest SY-PCI40010 PCI RAID Host Controller ...</td>\n",
       "      <td>Electronics</td>\n",
       "      <td>1</td>\n",
       "    </tr>\n",
       "    <tr>\n",
       "      <th>3</th>\n",
       "      <td>ISAKAA Baby Socks from Just Born to 8 Years- P...</td>\n",
       "      <td>Clothing &amp; Accessories</td>\n",
       "      <td>2</td>\n",
       "    </tr>\n",
       "    <tr>\n",
       "      <th>4</th>\n",
       "      <td>Indira Designer Women's Art Mysore Silk Saree ...</td>\n",
       "      <td>Clothing &amp; Accessories</td>\n",
       "      <td>2</td>\n",
       "    </tr>\n",
       "  </tbody>\n",
       "</table>\n",
       "</div>"
      ],
      "text/plain": [
       "                                                Text                   label  \\\n",
       "0  Urban Ladder Eisner Low Back Study-Office Comp...               Household   \n",
       "1  Contrast living Wooden Decorative Box,Painted ...               Household   \n",
       "2  IO Crest SY-PCI40010 PCI RAID Host Controller ...             Electronics   \n",
       "3  ISAKAA Baby Socks from Just Born to 8 Years- P...  Clothing & Accessories   \n",
       "4  Indira Designer Women's Art Mysore Silk Saree ...  Clothing & Accessories   \n",
       "\n",
       "   label_num  \n",
       "0          0  \n",
       "1          0  \n",
       "2          1  \n",
       "3          2  \n",
       "4          2  "
      ]
     },
     "execution_count": 12,
     "metadata": {},
     "output_type": "execute_result"
    }
   ],
   "source": [
    "df.head()"
   ]
  },
  {
   "cell_type": "markdown",
   "id": "e1cc00f6-0ca0-420c-8131-3eaf0bf22889",
   "metadata": {},
   "source": [
    "### Train test split\n"
   ]
  },
  {
   "cell_type": "code",
   "execution_count": 13,
   "id": "054c4c32-1847-47e6-a951-74e1973f41a4",
   "metadata": {},
   "outputs": [],
   "source": [
    "from sklearn.model_selection import train_test_split\n",
    "\n",
    "X_train, X_test, y_train, y_test = train_test_split(\n",
    "    df.Text,\n",
    "    df.label_num,\n",
    "    test_size = 0.2,\n",
    "    random_state = 2022,\n",
    "    stratify = df.label_num\n",
    ")    "
   ]
  },
  {
   "cell_type": "code",
   "execution_count": 14,
   "id": "23369490-0e57-4e85-baa4-cab0e3cfbbdf",
   "metadata": {},
   "outputs": [
    {
     "data": {
      "text/plain": [
       "(19200,)"
      ]
     },
     "execution_count": 14,
     "metadata": {},
     "output_type": "execute_result"
    }
   ],
   "source": [
    "X_train.shape"
   ]
  },
  {
   "cell_type": "code",
   "execution_count": 15,
   "id": "f9d9e8eb-bd3b-467f-930e-934be7d891f2",
   "metadata": {},
   "outputs": [
    {
     "data": {
      "text/plain": [
       "(4800,)"
      ]
     },
     "execution_count": 15,
     "metadata": {},
     "output_type": "execute_result"
    }
   ],
   "source": [
    "X_test.shape"
   ]
  },
  {
   "cell_type": "code",
   "execution_count": 16,
   "id": "4beb3bd0-148c-4943-9ba8-a2837a7649d3",
   "metadata": {},
   "outputs": [
    {
     "data": {
      "text/plain": [
       "label_num\n",
       "0    4800\n",
       "2    4800\n",
       "3    4800\n",
       "1    4800\n",
       "Name: count, dtype: int64"
      ]
     },
     "execution_count": 16,
     "metadata": {},
     "output_type": "execute_result"
    }
   ],
   "source": [
    "y_train.value_counts()"
   ]
  },
  {
   "cell_type": "code",
   "execution_count": 17,
   "id": "88dbe676-db59-400b-bdb1-76bd8785d140",
   "metadata": {},
   "outputs": [
    {
     "data": {
      "text/plain": [
       "label_num\n",
       "0    1200\n",
       "2    1200\n",
       "3    1200\n",
       "1    1200\n",
       "Name: count, dtype: int64"
      ]
     },
     "execution_count": 17,
     "metadata": {},
     "output_type": "execute_result"
    }
   ],
   "source": [
    "y_test.value_counts()"
   ]
  },
  {
   "cell_type": "markdown",
   "id": "96270a9f-cab1-4e4b-acee-712766f3c723",
   "metadata": {},
   "source": [
    "### Create a classification pipeline to classify the Ecommerce Data:"
   ]
  },
  {
   "cell_type": "markdown",
   "id": "c48d1f79-09aa-44ee-9088-15386416c4cf",
   "metadata": {},
   "source": [
    "#### 1- Using KNN as the classifier"
   ]
  },
  {
   "cell_type": "code",
   "execution_count": 18,
   "id": "aff0aca7-faf9-4ff1-afe9-6a7bbb77e21c",
   "metadata": {},
   "outputs": [
    {
     "name": "stdout",
     "output_type": "stream",
     "text": [
      "              precision    recall  f1-score   support\n",
      "\n",
      "           0       0.95      0.96      0.95      1200\n",
      "           1       0.96      0.97      0.97      1200\n",
      "           2       0.97      0.98      0.98      1200\n",
      "           3       0.98      0.95      0.96      1200\n",
      "\n",
      "    accuracy                           0.97      4800\n",
      "   macro avg       0.97      0.97      0.97      4800\n",
      "weighted avg       0.97      0.97      0.97      4800\n",
      "\n"
     ]
    }
   ],
   "source": [
    "from sklearn.neighbors import KNeighborsClassifier\n",
    "from sklearn.pipeline import Pipeline\n",
    "from sklearn.metrics import classification_report\n",
    "\n",
    "clf = Pipeline([\n",
    "    (\"vectorizer_tfidf\", TfidfVectorizer()),\n",
    "    (\"KNN\", KNeighborsClassifier())\n",
    "])\n",
    "\n",
    "clf.fit(X_train, y_train)\n",
    "\n",
    "y_pred = clf.predict(X_test)\n",
    "\n",
    "print(classification_report(y_test, y_pred))"
   ]
  },
  {
   "cell_type": "code",
   "execution_count": 19,
   "id": "fedbe74b-7cf7-4419-bdfc-03178c91ad46",
   "metadata": {},
   "outputs": [
    {
     "data": {
      "text/plain": [
       "20706    Lal Haveli Designer Handmade Patchwork Decorat...\n",
       "19008    tirupur fashion biz Girls and Kids Solid Cotto...\n",
       "14810    Modern Linguistics: An Introduction About The ...\n",
       "2451     AmazonBasics Apple Certified 30-Pin to USB Cab...\n",
       "6296     The Marine Corps Martial Arts Program: The Com...\n",
       "Name: Text, dtype: object"
      ]
     },
     "execution_count": 19,
     "metadata": {},
     "output_type": "execute_result"
    }
   ],
   "source": [
    "X_test[:5]"
   ]
  },
  {
   "cell_type": "code",
   "execution_count": 20,
   "id": "401a449b-45cf-44ea-bafe-435de0beb706",
   "metadata": {},
   "outputs": [
    {
     "data": {
      "text/plain": [
       "20706    0\n",
       "19008    2\n",
       "14810    3\n",
       "2451     1\n",
       "6296     3\n",
       "Name: label_num, dtype: int64"
      ]
     },
     "execution_count": 20,
     "metadata": {},
     "output_type": "execute_result"
    }
   ],
   "source": [
    "y_test[:5]"
   ]
  },
  {
   "cell_type": "code",
   "execution_count": 21,
   "id": "f3faf657-21d8-4757-9453-30f6f897ad8e",
   "metadata": {},
   "outputs": [
    {
     "data": {
      "text/plain": [
       "array([0, 2, 3, 1, 3], dtype=int64)"
      ]
     },
     "execution_count": 21,
     "metadata": {},
     "output_type": "execute_result"
    }
   ],
   "source": [
    "y_pred[:5]"
   ]
  },
  {
   "cell_type": "markdown",
   "id": "b660ff57-6aab-4809-9b08-3b7baae731f6",
   "metadata": {},
   "source": [
    "#### 2- Using MultinomialNB as the classifier"
   ]
  },
  {
   "cell_type": "code",
   "execution_count": 22,
   "id": "90fc0dbe-7216-4810-acfb-6d1a20ef486d",
   "metadata": {},
   "outputs": [
    {
     "name": "stdout",
     "output_type": "stream",
     "text": [
      "              precision    recall  f1-score   support\n",
      "\n",
      "           0       0.93      0.96      0.95      1200\n",
      "           1       0.96      0.96      0.96      1200\n",
      "           2       0.97      0.98      0.98      1200\n",
      "           3       0.98      0.93      0.95      1200\n",
      "\n",
      "    accuracy                           0.96      4800\n",
      "   macro avg       0.96      0.96      0.96      4800\n",
      "weighted avg       0.96      0.96      0.96      4800\n",
      "\n"
     ]
    }
   ],
   "source": [
    "from sklearn.naive_bayes import MultinomialNB\n",
    "\n",
    "clf = Pipeline([\n",
    "    (\"vectorizer_tfidf\", TfidfVectorizer()),\n",
    "    (\"Multi NB\", MultinomialNB())\n",
    "])\n",
    "\n",
    "clf.fit(X_train, y_train)\n",
    "\n",
    "y_pred = clf.predict(X_test)\n",
    "\n",
    "print(classification_report(y_test, y_pred))"
   ]
  },
  {
   "cell_type": "code",
   "execution_count": 23,
   "id": "c715b3f6-4d1a-4b5b-81d3-050730b2bdfd",
   "metadata": {},
   "outputs": [
    {
     "data": {
      "text/plain": [
       "array([0, 2, 3, 1, 3], dtype=int64)"
      ]
     },
     "execution_count": 23,
     "metadata": {},
     "output_type": "execute_result"
    }
   ],
   "source": [
    "y_pred[:5]"
   ]
  },
  {
   "cell_type": "markdown",
   "id": "a2351df9-f4cb-4e33-9bd7-a4c52c6227b3",
   "metadata": {},
   "source": [
    "#### 3- Using Random Forest as the classifier"
   ]
  },
  {
   "cell_type": "code",
   "execution_count": 24,
   "id": "0768bb99-21d8-4ccb-b4c5-b62ee4181400",
   "metadata": {},
   "outputs": [
    {
     "name": "stdout",
     "output_type": "stream",
     "text": [
      "              precision    recall  f1-score   support\n",
      "\n",
      "           0       0.96      0.96      0.96      1200\n",
      "           1       0.97      0.98      0.97      1200\n",
      "           2       0.98      0.98      0.98      1200\n",
      "           3       0.98      0.97      0.97      1200\n",
      "\n",
      "    accuracy                           0.97      4800\n",
      "   macro avg       0.97      0.97      0.97      4800\n",
      "weighted avg       0.97      0.97      0.97      4800\n",
      "\n"
     ]
    }
   ],
   "source": [
    "from sklearn.ensemble import RandomForestClassifier\n",
    "\n",
    "clf = Pipeline([\n",
    "    (\"vectorizer_tfidf\", TfidfVectorizer()),\n",
    "    (\"Random Forest\", RandomForestClassifier())\n",
    "])\n",
    "\n",
    "clf.fit(X_train, y_train)\n",
    "\n",
    "y_pred = clf.predict(X_test)\n",
    "\n",
    "print(classification_report(y_test, y_pred))"
   ]
  },
  {
   "cell_type": "code",
   "execution_count": 25,
   "id": "759060dc-6ce2-46c9-a6ca-41a9c309aab3",
   "metadata": {},
   "outputs": [
    {
     "data": {
      "text/plain": [
       "array([0, 2, 3, 1, 3], dtype=int64)"
      ]
     },
     "execution_count": 25,
     "metadata": {},
     "output_type": "execute_result"
    }
   ],
   "source": [
    "y_pred[:5]"
   ]
  },
  {
   "cell_type": "markdown",
   "id": "2d4cca07-ca5f-45b4-9ba8-a11bac70eac1",
   "metadata": {},
   "source": [
    "<h3>Use text pre-processing to remove stop words, punctuations and apply lemmatization</h3>"
   ]
  },
  {
   "cell_type": "code",
   "execution_count": 29,
   "id": "9298b926-67b2-4126-bad9-202dbca7f9d8",
   "metadata": {},
   "outputs": [],
   "source": [
    "nlp = spacy.load(\"en_core_web_sm\")\n",
    "\n",
    "#Remove stop words ans punctiation and do lemmetization to the tokens\n",
    "def preprocess(text) :\n",
    "    doc = nlp(text)\n",
    "    filtred_tokens = []\n",
    "    for token in doc :\n",
    "        if token.is_punct or token.is_stop :\n",
    "            continue\n",
    "        filtred_tokens.append(token.lemma_)\n",
    "    return \" \".join(filtred_tokens)"
   ]
  },
  {
   "cell_type": "code",
   "execution_count": 30,
   "id": "108bf146-97ee-43b6-9942-a92487f985a4",
   "metadata": {},
   "outputs": [],
   "source": [
    "df['preprocess_text'] = df['Text'].apply(preprocess)"
   ]
  },
  {
   "cell_type": "code",
   "execution_count": 31,
   "id": "9752192d-4d43-471e-a267-bf47aac04463",
   "metadata": {},
   "outputs": [
    {
     "data": {
      "text/html": [
       "<div>\n",
       "<style scoped>\n",
       "    .dataframe tbody tr th:only-of-type {\n",
       "        vertical-align: middle;\n",
       "    }\n",
       "\n",
       "    .dataframe tbody tr th {\n",
       "        vertical-align: top;\n",
       "    }\n",
       "\n",
       "    .dataframe thead th {\n",
       "        text-align: right;\n",
       "    }\n",
       "</style>\n",
       "<table border=\"1\" class=\"dataframe\">\n",
       "  <thead>\n",
       "    <tr style=\"text-align: right;\">\n",
       "      <th></th>\n",
       "      <th>Text</th>\n",
       "      <th>label</th>\n",
       "      <th>label_num</th>\n",
       "      <th>preprocess_text</th>\n",
       "    </tr>\n",
       "  </thead>\n",
       "  <tbody>\n",
       "    <tr>\n",
       "      <th>0</th>\n",
       "      <td>Urban Ladder Eisner Low Back Study-Office Comp...</td>\n",
       "      <td>Household</td>\n",
       "      <td>0</td>\n",
       "      <td>Urban Ladder Eisner low Study Office Computer ...</td>\n",
       "    </tr>\n",
       "    <tr>\n",
       "      <th>1</th>\n",
       "      <td>Contrast living Wooden Decorative Box,Painted ...</td>\n",
       "      <td>Household</td>\n",
       "      <td>0</td>\n",
       "      <td>contrast live Wooden Decorative Box Painted Bo...</td>\n",
       "    </tr>\n",
       "    <tr>\n",
       "      <th>2</th>\n",
       "      <td>IO Crest SY-PCI40010 PCI RAID Host Controller ...</td>\n",
       "      <td>Electronics</td>\n",
       "      <td>1</td>\n",
       "      <td>IO Crest SY PCI40010 PCI raid Host Controller ...</td>\n",
       "    </tr>\n",
       "    <tr>\n",
       "      <th>3</th>\n",
       "      <td>ISAKAA Baby Socks from Just Born to 8 Years- P...</td>\n",
       "      <td>Clothing &amp; Accessories</td>\n",
       "      <td>2</td>\n",
       "      <td>ISAKAA Baby Socks bear 8 Years- Pack 4 6 8 12 ...</td>\n",
       "    </tr>\n",
       "    <tr>\n",
       "      <th>4</th>\n",
       "      <td>Indira Designer Women's Art Mysore Silk Saree ...</td>\n",
       "      <td>Clothing &amp; Accessories</td>\n",
       "      <td>2</td>\n",
       "      <td>Indira Designer Women Art Mysore Silk Saree Bl...</td>\n",
       "    </tr>\n",
       "  </tbody>\n",
       "</table>\n",
       "</div>"
      ],
      "text/plain": [
       "                                                Text                   label  \\\n",
       "0  Urban Ladder Eisner Low Back Study-Office Comp...               Household   \n",
       "1  Contrast living Wooden Decorative Box,Painted ...               Household   \n",
       "2  IO Crest SY-PCI40010 PCI RAID Host Controller ...             Electronics   \n",
       "3  ISAKAA Baby Socks from Just Born to 8 Years- P...  Clothing & Accessories   \n",
       "4  Indira Designer Women's Art Mysore Silk Saree ...  Clothing & Accessories   \n",
       "\n",
       "   label_num                                    preprocess_text  \n",
       "0          0  Urban Ladder Eisner low Study Office Computer ...  \n",
       "1          0  contrast live Wooden Decorative Box Painted Bo...  \n",
       "2          1  IO Crest SY PCI40010 PCI raid Host Controller ...  \n",
       "3          2  ISAKAA Baby Socks bear 8 Years- Pack 4 6 8 12 ...  \n",
       "4          2  Indira Designer Women Art Mysore Silk Saree Bl...  "
      ]
     },
     "execution_count": 31,
     "metadata": {},
     "output_type": "execute_result"
    }
   ],
   "source": [
    "df.head()"
   ]
  },
  {
   "cell_type": "markdown",
   "id": "c2292f45-3105-4ec8-96a2-b6fb7f87ac70",
   "metadata": {},
   "source": [
    "### Build a model with pre processed text"
   ]
  },
  {
   "cell_type": "code",
   "execution_count": 32,
   "id": "7ad77f61-3b9a-4fca-912c-8c67d40875d6",
   "metadata": {},
   "outputs": [],
   "source": [
    "#do a new plit with the new filtred text\n",
    "\n",
    "X_train, X_test, y_train, y_test = train_test_split(\n",
    "    df.preprocess_text,\n",
    "    df.label_num,\n",
    "    test_size = 0.2,\n",
    "    random_state = 2022,\n",
    "    stratify = df.label_num\n",
    ")    "
   ]
  },
  {
   "cell_type": "code",
   "execution_count": 33,
   "id": "2726e523-b15e-4c64-942c-3751d048f042",
   "metadata": {},
   "outputs": [
    {
     "data": {
      "text/plain": [
       "'Urban Ladder Eisner Low Back Study-Office Computer Chair(Black) A study in simple. The Eisner study chair has a firm foam cushion, which makes long hours at your desk comfortable. The flexible meshed back is designed for air-circulation and support when you lean back. The curved arms provide ergonomic forearm support. Adjust the height using the gas lift to find that comfortable position and the nylon castors make it easy to move around your space. Chrome legs refer to the images for dimension details any assembly required will be done by the UL team at the time of delivery indoor use only.'"
      ]
     },
     "execution_count": 33,
     "metadata": {},
     "output_type": "execute_result"
    }
   ],
   "source": [
    "df.Text[0]"
   ]
  },
  {
   "cell_type": "code",
   "execution_count": 34,
   "id": "5f83c45a-2dba-400d-8540-ba2f28859872",
   "metadata": {},
   "outputs": [
    {
     "data": {
      "text/plain": [
       "'Urban Ladder Eisner low Study Office Computer Chair(Black study simple Eisner study chair firm foam cushion make long hour desk comfortable flexible mesh design air circulation support lean curved arm provide ergonomic forearm support adjust height gas lift find comfortable position nylon castor easy space chrome leg refer image dimension detail assembly require UL team time delivery indoor use'"
      ]
     },
     "execution_count": 34,
     "metadata": {},
     "output_type": "execute_result"
    }
   ],
   "source": [
    "df.preprocess_text[0]"
   ]
  },
  {
   "cell_type": "markdown",
   "id": "a159154c-0f73-494f-82bd-e67d6cbe3afd",
   "metadata": {},
   "source": [
    "Let's check the scores with our best model till now"
   ]
  },
  {
   "cell_type": "code",
   "execution_count": 35,
   "id": "75f4f76f-0473-4d91-aa58-a70c88a8eb56",
   "metadata": {},
   "outputs": [
    {
     "name": "stdout",
     "output_type": "stream",
     "text": [
      "              precision    recall  f1-score   support\n",
      "\n",
      "           0       0.96      0.97      0.97      1200\n",
      "           1       0.98      0.97      0.98      1200\n",
      "           2       0.98      0.99      0.99      1200\n",
      "           3       0.98      0.97      0.98      1200\n",
      "\n",
      "    accuracy                           0.98      4800\n",
      "   macro avg       0.98      0.98      0.98      4800\n",
      "weighted avg       0.98      0.98      0.98      4800\n",
      "\n"
     ]
    }
   ],
   "source": [
    "clf = Pipeline([\n",
    "    (\"vectorizer_tfidf\", TfidfVectorizer()),\n",
    "    (\"Random Forest\", RandomForestClassifier())\n",
    "])\n",
    "\n",
    "clf.fit(X_train, y_train)\n",
    "\n",
    "y_pred = clf.predict(X_test)\n",
    "\n",
    "print(classification_report(y_test, y_pred))"
   ]
  },
  {
   "cell_type": "markdown",
   "id": "69081e7b-7f7b-478c-acb4-3eb2300470e3",
   "metadata": {},
   "source": [
    "### Plot confusion matrix\n",
    "\n"
   ]
  },
  {
   "cell_type": "code",
   "execution_count": 36,
   "id": "3b038811-f859-45b8-9bef-9a0bd0f78925",
   "metadata": {},
   "outputs": [
    {
     "data": {
      "text/plain": [
       "array([[1167,   12,   13,    8],\n",
       "       [  23, 1170,    1,    6],\n",
       "       [   7,    4, 1185,    4],\n",
       "       [  14,   12,    6, 1168]], dtype=int64)"
      ]
     },
     "execution_count": 36,
     "metadata": {},
     "output_type": "execute_result"
    }
   ],
   "source": [
    "from sklearn.metrics import confusion_matrix\n",
    "cm = confusion_matrix(y_test, y_pred)\n",
    "cm"
   ]
  }
 ],
 "metadata": {
  "kernelspec": {
   "display_name": "Python 3 (ipykernel)",
   "language": "python",
   "name": "python3"
  },
  "language_info": {
   "codemirror_mode": {
    "name": "ipython",
    "version": 3
   },
   "file_extension": ".py",
   "mimetype": "text/x-python",
   "name": "python",
   "nbconvert_exporter": "python",
   "pygments_lexer": "ipython3",
   "version": "3.11.7"
  }
 },
 "nbformat": 4,
 "nbformat_minor": 5
}
